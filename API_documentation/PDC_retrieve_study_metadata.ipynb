{
 "cells": [
  {
   "cell_type": "markdown",
   "metadata": {
    "collapsed": true
   },
   "source": [
    "![alt text](pdc.PNG \"PDC\")\n",
    "\n",
    "The notebook can be found [here.](https://github.com/esacinc/PDC-Public/blob/master/API_documentation/PDC_retrieve_study_metadata.ipynb)\n",
    "\n",
    "This notebook attempts to demonstrate the following:\n",
    "\n",
    "1. Use the Proteome Data Commons (PDC) API to retrieve all study metadata.\n",
    "2. Print the metadata to a file.\n",
    "\n",
    "The metadata are intended to help select studies of interest for downstream analysis (e.g., protein expression.)"
   ]
  },
  {
   "cell_type": "code",
   "execution_count": 1,
   "metadata": {},
   "outputs": [],
   "source": [
    "import requests\n",
    "import json"
   ]
  },
  {
   "cell_type": "markdown",
   "metadata": {},
   "source": [
    "First let's define a function to call the PDC API."
   ]
  },
  {
   "cell_type": "code",
   "execution_count": 2,
   "metadata": {},
   "outputs": [],
   "source": [
    "def query_pdc(query):\n",
    "    # PDC API url\n",
    "    url = 'https://pdc.esacinc.com/graphql'\n",
    "    \n",
    "    # Send the POST query\n",
    "    print('Sending query.')\n",
    "    \n",
    "    pdc_response = requests.post(url, json={'query': query})\n",
    "    # Set up a data structure for the query result\n",
    "    \n",
    "    # Check the results\n",
    "    if pdc_response.ok:\n",
    "        # Decode the response\n",
    "        return pdc_response.json()\n",
    "    else:\n",
    "        # Response not OK, see error\n",
    "        return pdc_response.raise_for_status()"
   ]
  },
  {
   "cell_type": "markdown",
   "metadata": {},
   "source": [
    "Next, let's setup the GraphQL query.  This query is designed to retrieve a broad range of metadata defined at the program, project, and study levels.  You can limit what is returned by omitting fields from your query.\n",
    "\n",
    "You can also practice running queries using the [GraphiQL tool](https://pdc.esacinc.com/graphiql), installed on the PDC server."
   ]
  },
  {
   "cell_type": "code",
   "execution_count": 3,
   "metadata": {},
   "outputs": [],
   "source": [
    "study_metadata_query = '''\n",
    "{\n",
    "  programsProjectsStudies {\n",
    "    program_id\n",
    "    program_submitter_id\n",
    "    name\n",
    "    sponsor\n",
    "    start_date\n",
    "    end_date\n",
    "    program_manager\n",
    "    projects {\n",
    "      project_id\n",
    "      project_submitter_id\n",
    "      name\n",
    "      studies {\n",
    "        study_id\n",
    "        study_submitter_id\n",
    "        submitter_id_name\n",
    "        study_name\n",
    "        program_name\n",
    "        project_name\n",
    "        program_id\n",
    "        project_id\n",
    "        project_submitter_id\n",
    "        disease_type\n",
    "        primary_site\n",
    "        analytical_fraction\n",
    "        experiment_type\n",
    "        acquisition_type\n",
    "        cases_count\n",
    "        aliquots_count\n",
    "      }\n",
    "    }\n",
    "  }\n",
    "}'''"
   ]
  },
  {
   "cell_type": "markdown",
   "metadata": {},
   "source": [
    "Next, let's run the query using the function that we defined and the GraphQL statement that we setup in the previous cell."
   ]
  },
  {
   "cell_type": "code",
   "execution_count": 4,
   "metadata": {},
   "outputs": [
    {
     "name": "stdout",
     "output_type": "stream",
     "text": [
      "Sending query.\n"
     ]
    }
   ],
   "source": [
    "study_mdata = query_pdc(study_metadata_query)"
   ]
  },
  {
   "cell_type": "markdown",
   "metadata": {},
   "source": [
    "Next, let's save the response to a file."
   ]
  },
  {
   "cell_type": "code",
   "execution_count": 5,
   "metadata": {},
   "outputs": [
    {
     "name": "stdout",
     "output_type": "stream",
     "text": [
      "{\n",
      "  \"data\": {\n",
      "    \"programsProjectsStudies\": [\n",
      "      {\n",
      "        \"program_id\": \"10251935-5540-11e8-b664-00a098d917f8\",\n",
      "        \"program_submitter_id\": \"Clinical Proteomic Tumor Analysis Consortium\",\n",
      "        \"name\": \"Clinical Proteomic Tumor Analysis Consortium\",\n",
      "        \"sponsor\": null,\n",
      "        \"start_date\": \"2018-06-29\",\n",
      "        \"end_date\": null,\n",
      "        \"program_manager\": \"Ratna Thangudu\",\n",
      "        \"projects\": [\n",
      "          {\n",
      "            \"project_id\": \"267d6671-0e78-11e9-a064-0a9c39d33490\",\n",
      "            \"project_submitter_id\": \"CPTAC3-Discovery\",\n",
      "            \"name\": \"CPTAC3-Discovery\",\n",
      "            \"studies\": [\n",
      "              {\n",
      "                \"study_id\": \"cfe9f4a2-1797-11ea-9bfa-0a42f3c845fe\",\n",
      "                \"study_submitter_id\": \"CPTAC GBM Discovery Study - Proteome\",\n",
      "                \"submitter_id_name\": \"CPTAC GBM Discovery Study - Proteome\",\n",
      "                \"study_name\": null,\n",
      "                \"program_name\": null,\n",
      "                \"project_name\": null,\n",
      "                \"program_id\": null,\n"
     ]
    }
   ],
   "source": [
    "formatted = json.dumps(study_mdata, indent=2)\n",
    "print(formatted[0:1000])"
   ]
  },
  {
   "cell_type": "code",
   "execution_count": 6,
   "metadata": {},
   "outputs": [],
   "source": [
    "with open('studymdata.json', 'w') as outfile:\n",
    "    outfile.writelines(formatted)"
   ]
  },
  {
   "cell_type": "markdown",
   "metadata": {},
   "source": [
    "That's it! You can now use the information in the file, along with the browse/filter tools on the PDC to identify studies that may be of interset to you.  The output also contains many of the identifiers used in the PDC which will be useful when using other API calls."
   ]
  },
  {
   "cell_type": "markdown",
   "metadata": {},
   "source": [
    "This ends this notebook.\n",
    "Please submit any questions or requests to: PDCHelpDesk@mail.nih.gov"
   ]
  }
 ],
 "metadata": {
  "kernelspec": {
   "display_name": "Python 3",
   "language": "python",
   "name": "python3"
  },
  "language_info": {
   "codemirror_mode": {
    "name": "ipython",
    "version": 3
   },
   "file_extension": ".py",
   "mimetype": "text/x-python",
   "name": "python",
   "nbconvert_exporter": "python",
   "pygments_lexer": "ipython3",
   "version": "3.7.1"
  }
 },
 "nbformat": 4,
 "nbformat_minor": 1
}
